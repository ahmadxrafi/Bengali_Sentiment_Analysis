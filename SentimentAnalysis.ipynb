{
 "cells": [
  {
   "cell_type": "code",
   "execution_count": 1,
   "id": "ddc09f94-7b9f-4982-b284-c9213d30c4b1",
   "metadata": {},
   "outputs": [],
   "source": [
    "import pandas as pd\n",
    "import numpy as np\n",
    "import matplotlib.pyplot as plt"
   ]
  },
  {
   "cell_type": "code",
   "execution_count": 2,
   "id": "ed819f63-646e-4757-a7eb-f781550eb392",
   "metadata": {},
   "outputs": [],
   "source": [
    "data = pd.read_csv('ThesisDataSet.txt',delimiter = '\\t')\n",
    "data = data[:7600]\n",
    "data = data['sentences']"
   ]
  },
  {
   "cell_type": "code",
   "execution_count": 3,
   "id": "1d18b00f-00d8-460e-ad8c-6c1be2975a9b",
   "metadata": {},
   "outputs": [
    {
     "data": {
      "text/plain": [
       "{'sad': 1583,\n",
       " 'happy': 2208,\n",
       " 'angry': 1784,\n",
       " 'surprise': 709,\n",
       " 'disgust': 859,\n",
       " 'fear': 457}"
      ]
     },
     "execution_count": 3,
     "metadata": {},
     "output_type": "execute_result"
    }
   ],
   "source": [
    "total_sentences = len(data)\n",
    "sentences = {'sad':0,\n",
    "             'happy':0,\n",
    "             'angry':0,\n",
    "             'surprise':0,\n",
    "             'disgust':0,\n",
    "             'fear':0}\n",
    "for sentence in data:\n",
    "    sentences[sentence.split()[0].lower()]+= 1\n",
    "sentences"
   ]
  },
  {
   "cell_type": "code",
   "execution_count": 4,
   "id": "abc50c09-6d3d-480b-bcc4-609207f02f52",
   "metadata": {},
   "outputs": [],
   "source": [
    "word_pool = {'sad':[],\n",
    "             'happy':[],\n",
    "             'angry':[],\n",
    "             'surprise':[],\n",
    "             'disgust':[],\n",
    "             'fear':[]}"
   ]
  },
  {
   "cell_type": "code",
   "execution_count": 5,
   "id": "1fbf4cc4-9437-4b30-8364-0c0dc6f055c0",
   "metadata": {},
   "outputs": [],
   "source": [
    "for sentence in data:\n",
    "    splitted = sentence.split()\n",
    "    for k in range(1,len(splitted)):\n",
    "        word_pool[splitted[0].lower()].append(splitted[k])"
   ]
  },
  {
   "cell_type": "code",
   "execution_count": 6,
   "id": "cdc24ab6-3cfa-4f1c-ba8c-5ecdcd35c756",
   "metadata": {},
   "outputs": [],
   "source": [
    "all_words = []\n",
    "for emotion in word_pool:\n",
    "    for word in word_pool[emotion]:\n",
    "        all_words.append(word)"
   ]
  },
  {
   "cell_type": "code",
   "execution_count": 7,
   "id": "bdb892d1-7614-475b-96ee-3f49fb6ef427",
   "metadata": {},
   "outputs": [
    {
     "data": {
      "text/plain": [
       "23380"
      ]
     },
     "execution_count": 7,
     "metadata": {},
     "output_type": "execute_result"
    }
   ],
   "source": [
    "all_distinct_words = set(all_words)\n",
    "len(all_distinct_words)"
   ]
  },
  {
   "cell_type": "raw",
   "id": "ee69a828-8f16-49a4-8fe6-cfdf009f260e",
   "metadata": {},
   "source": [
    "words = dict()\n",
    "for word in all_distinct_words:\n",
    "    words[word] = [.00001 for k in range(7)]"
   ]
  },
  {
   "cell_type": "raw",
   "id": "a3b8a530-367b-4baf-9b54-23b5d8c42360",
   "metadata": {},
   "source": [
    "for word in all_distinct_words:\n",
    "    k = 0\n",
    "    for emotion in word_pool:\n",
    "        total = all_words.count(word)\n",
    "        words[word][k] = word_pool[emotion].count(word)/total\n",
    "        k += 1\n",
    "    words[word][k] = total/total_sentences"
   ]
  },
  {
   "cell_type": "code",
   "execution_count": 8,
   "id": "653f1283-f676-4c13-b03f-ff61398a7f38",
   "metadata": {},
   "outputs": [],
   "source": [
    "def prepare_dictionary(sentence):\n",
    "    words_from_sentence = sentence.split()\n",
    "    probabilty = dict()\n",
    "    for word in words_from_sentence:\n",
    "        probabilty[word] = [.0000001 for k in range(7)]\n",
    "    for word in words_from_sentence:\n",
    "        k = 0\n",
    "        for emotion in word_pool:\n",
    "            total = all_words.count(word)\n",
    "            tw = word_pool[emotion].count(word)\n",
    "            if not tw == 0:\n",
    "                probabilty[word][k] = tw/total\n",
    "            k += 1\n",
    "        probabilty[word][k] = total/total_sentences\n",
    "    return probabilty"
   ]
  },
  {
   "cell_type": "code",
   "execution_count": 9,
   "id": "648eea7f-4825-4947-90c1-26afd740de36",
   "metadata": {},
   "outputs": [
    {
     "data": {
      "text/plain": [
       "{'দেশকি': [1e-07, 1e-07, 1.0, 1e-07, 1e-07, 1e-07, 0.00013157894736842105],\n",
       " 'মধ্যম': [1e-07, 1e-07, 1.0, 1e-07, 1e-07, 1e-07, 0.0002631578947368421],\n",
       " 'আয়ের': [1e-07, 1e-07, 0.2, 0.8, 1e-07, 1e-07, 0.0006578947368421052],\n",
       " 'দেশে': [0.3442622950819672,\n",
       "  0.11475409836065574,\n",
       "  0.19672131147540983,\n",
       "  0.12295081967213115,\n",
       "  0.13934426229508196,\n",
       "  0.08196721311475409,\n",
       "  0.032105263157894734],\n",
       " 'রুপান্তর': [1e-07, 1e-07, 1.0, 1e-07, 1e-07, 1e-07, 0.00013157894736842105],\n",
       " 'হচ্ছে': [0.27906976744186046,\n",
       "  0.17829457364341086,\n",
       "  0.13178294573643412,\n",
       "  0.17829457364341086,\n",
       "  0.14728682170542637,\n",
       "  0.08527131782945736,\n",
       "  0.016973684210526314],\n",
       " 'নাকি': [0.1,\n",
       "  0.05,\n",
       "  0.39166666666666666,\n",
       "  0.20833333333333334,\n",
       "  0.20833333333333334,\n",
       "  0.041666666666666664,\n",
       "  0.015789473684210527],\n",
       " 'মগের': [1e-07, 1e-07, 0.4, 1e-07, 0.2, 0.4, 0.0006578947368421052],\n",
       " 'মুলুকের': [1e-07, 1e-07, 1.0, 1e-07, 1e-07, 1e-07, 0.00013157894736842105],\n",
       " 'পরিনত': [0.3333333333333333,\n",
       "  1e-07,\n",
       "  0.3333333333333333,\n",
       "  0.16666666666666666,\n",
       "  1e-07,\n",
       "  0.16666666666666666,\n",
       "  0.0007894736842105263],\n",
       " 'হচ্ছে?': [0.3333333333333333,\n",
       "  1e-07,\n",
       "  0.16666666666666666,\n",
       "  0.3333333333333333,\n",
       "  1e-07,\n",
       "  0.16666666666666666,\n",
       "  0.0007894736842105263]}"
      ]
     },
     "execution_count": 9,
     "metadata": {},
     "output_type": "execute_result"
    }
   ],
   "source": [
    "prepare_dictionary('দেশকি মধ্যম আয়ের দেশে রুপান্তর হচ্ছে নাকি মগের মুলুকের দেশে পরিনত হচ্ছে?')"
   ]
  },
  {
   "cell_type": "code",
   "execution_count": 10,
   "id": "2f6ec4e5-ce9b-4cf0-8408-e94c5ea44617",
   "metadata": {},
   "outputs": [],
   "source": [
    "def count_probabilityNB(sentence):\n",
    "    probability = prepare_dictionary(sentence)\n",
    "    prob = [1 for _ in range(6)]\n",
    "    for k in range(6):\n",
    "        for word in sentence.split():\n",
    "            if not word in all_words:\n",
    "                prob[k] *= 1\n",
    "            else:\n",
    "                prob[k] *= probability[word][k]*probability[word][-1]\n",
    "    return prob"
   ]
  },
  {
   "cell_type": "code",
   "execution_count": 11,
   "id": "9ee606ac-347b-43e6-a9c5-078ef1f52f2d",
   "metadata": {},
   "outputs": [
    {
     "data": {
      "text/plain": [
       "[2.3667874374676266e-44,\n",
       " 6.834822010675844e-45,\n",
       " 3.0993768939283807e-45,\n",
       " 1.967004240166738e-33,\n",
       " 7.926244653252837e-47,\n",
       " 4.294928928346206e-61]"
      ]
     },
     "execution_count": 11,
     "metadata": {},
     "output_type": "execute_result"
    }
   ],
   "source": [
    "count_probabilityNB('এবার লোকসমাগম খুব কম হয়েছে যা প্রশ্নই থেকে যায় কেন ?')"
   ]
  },
  {
   "cell_type": "code",
   "execution_count": 12,
   "id": "cfaae591-325f-46c6-99fc-c0812e67ede7",
   "metadata": {},
   "outputs": [
    {
     "data": {
      "text/plain": [
       "<BarContainer object of 6 artists>"
      ]
     },
     "execution_count": 12,
     "metadata": {},
     "output_type": "execute_result"
    },
    {
     "data": {
      "image/png": "[encoded data removed]",
      "text/plain": [
       "<Figure size 640x480 with 1 Axes>"
      ]
     },
     "metadata": {},
     "output_type": "display_data"
    }
   ],
   "source": [
    "plt.bar(['sad','happy','angry','surprise','disgust','fear'],count_probabilityNB('এবার লোকসমাগম খুব হয়েছে !'))"
   ]
  },
  {
   "cell_type": "code",
   "execution_count": 13,
   "id": "7e070f74-7b92-479d-be3d-646648a227ba",
   "metadata": {},
   "outputs": [
    {
     "data": {
      "text/plain": [
       "<BarContainer object of 6 artists>"
      ]
     },
     "execution_count": 13,
     "metadata": {},
     "output_type": "execute_result"
    },
    {
     "data": {
      "image/png": "[encoded data removed]",
      "text/plain": [
       "<Figure size 640x480 with 1 Axes>"
      ]
     },
     "metadata": {},
     "output_type": "display_data"
    }
   ],
   "source": [
    "plt.bar(['sad','happy','angry','surprise','disgust','fear'],count_probabilityNB('আমি গর্বিত আমি মুসলিম। আমি সংগ্রামী। আমি যোদ্ধা। আমি চির রণবীর। আমি আল্লাহ ছারা কারও কাছে নিচু করি না আমার শির। নারায়ে তাকবির আল্লাহু আকবর।'))"
   ]
  },
  {
   "cell_type": "code",
   "execution_count": 14,
   "id": "0bad66a1-8b12-4821-bd4b-314c4055c073",
   "metadata": {},
   "outputs": [
    {
     "data": {
      "text/plain": [
       "<BarContainer object of 6 artists>"
      ]
     },
     "execution_count": 14,
     "metadata": {},
     "output_type": "execute_result"
    },
    {
     "data": {
      "image/png": "[encoded data removed]",
      "text/plain": [
       "<Figure size 640x480 with 1 Axes>"
      ]
     },
     "metadata": {},
     "output_type": "display_data"
    }
   ],
   "source": [
    "plt.bar(['sad','happy','angry','surprise','disgust','fear'],count_probabilityNB('নাস্তিকরা কমতেছে তো'))"
   ]
  },
  {
   "cell_type": "code",
   "execution_count": 15,
   "id": "a271dc26-715b-4572-9723-a9d0177e0511",
   "metadata": {},
   "outputs": [
    {
     "data": {
      "text/plain": [
       "<BarContainer object of 6 artists>"
      ]
     },
     "execution_count": 15,
     "metadata": {},
     "output_type": "execute_result"
    },
    {
     "data": {
      "image/png": "[encoded data removed]",
      "text/plain": [
       "<Figure size 640x480 with 1 Axes>"
      ]
     },
     "metadata": {},
     "output_type": "display_data"
    }
   ],
   "source": [
    "plt.bar(['sad','happy','angry','surprise','disgust','fear'],count_probabilityNB('বহু বছরের পুরনো স্মৃতি মনে পারছে,'))"
   ]
  },
  {
   "cell_type": "code",
   "execution_count": 16,
   "id": "6f440251-5bba-4af2-b7b9-c3f7369be23f",
   "metadata": {},
   "outputs": [
    {
     "data": {
      "text/plain": [
       "<BarContainer object of 6 artists>"
      ]
     },
     "execution_count": 16,
     "metadata": {},
     "output_type": "execute_result"
    },
    {
     "data": {
      "image/png": "[encoded data removed]",
      "text/plain": [
       "<Figure size 640x480 with 1 Axes>"
      ]
     },
     "metadata": {},
     "output_type": "display_data"
    }
   ],
   "source": [
    "plt.bar(['sad','happy','angry','surprise','disgust','fear'],count_probabilityNB('ওটা আপনার লোকেরাই করছে।'))"
   ]
  },
  {
   "cell_type": "code",
   "execution_count": 18,
   "id": "36916aa3-befe-4f1e-8ebb-b7e2234149b9",
   "metadata": {},
   "outputs": [
    {
     "data": {
      "text/plain": [
       "<BarContainer object of 6 artists>"
      ]
     },
     "execution_count": 18,
     "metadata": {},
     "output_type": "execute_result"
    },
    {
     "data": {
      "image/png": "[encoded data removed]",
      "text/plain": [
       "<Figure size 640x480 with 1 Axes>"
      ]
     },
     "metadata": {},
     "output_type": "display_data"
    }
   ],
   "source": [
    "plt.bar(['sad','happy','angry','surprise','disgust','fear'],count_probabilityNB('জীবনডা বেদনা'))"
   ]
  },
  {
   "cell_type": "code",
   "execution_count": 19,
   "id": "e8f27e26-04a7-4a19-adc6-b5f4cec1559e",
   "metadata": {},
   "outputs": [
    {
     "data": {
      "text/plain": [
       "<BarContainer object of 6 artists>"
      ]
     },
     "execution_count": 19,
     "metadata": {},
     "output_type": "execute_result"
    },
    {
     "data": {
      "image/png": "[encoded data removed]",
      "text/plain": [
       "<Figure size 640x480 with 1 Axes>"
      ]
     },
     "metadata": {},
     "output_type": "display_data"
    }
   ],
   "source": [
    "plt.bar(['sad','happy','angry','surprise','disgust','fear'],count_probabilityNB('এ দুঃখ ভারাক্রান্ত হৃদয়'))"
   ]
  },
  {
   "cell_type": "code",
   "execution_count": 20,
   "id": "bf5b660a-96ed-4212-87df-af59be314bc7",
   "metadata": {},
   "outputs": [],
   "source": [
    "def useful_substrings(wrd):\n",
    "    sbstrings = []\n",
    "    if len(wrd) <= 3:\n",
    "        for k in range(1,len(wrd)+1):\n",
    "            sbstrings.append(wrd[:k])\n",
    "    else:\n",
    "        for k in range(len(wrd)-3,len(wrd)+1):\n",
    "            sbstrings.append(wrd[:k])\n",
    "    return sbstrings"
   ]
  },
  {
   "cell_type": "code",
   "execution_count": 21,
   "id": "b31cb383-7a47-4be8-a9ba-10dc82aeadc7",
   "metadata": {},
   "outputs": [
    {
     "data": {
      "text/plain": [
       "['জীব', 'জীবন', 'জীবনড', 'জীবনডা']"
      ]
     },
     "execution_count": 21,
     "metadata": {},
     "output_type": "execute_result"
    }
   ],
   "source": [
    "useful_substrings('জীবনডা')"
   ]
  },
  {
   "cell_type": "code",
   "execution_count": 22,
   "id": "f3682665-b462-45cc-a257-ab7290918621",
   "metadata": {},
   "outputs": [],
   "source": [
    "def cut(wrd):\n",
    "    wrds = []\n",
    "    for k in range(1,len(wrd)):\n",
    "        wrds.append(wrd[:k])\n",
    "        wrds.append(wrd[k:])\n",
    "    return wrds"
   ]
  },
  {
   "cell_type": "code",
   "execution_count": 23,
   "id": "5b3189da-b737-4982-82e4-8c49ab0828ac",
   "metadata": {},
   "outputs": [
    {
     "data": {
      "text/plain": [
       "['জ', 'ীবনডা', 'জী', 'বনডা', 'জীব', 'নডা', 'জীবন', 'ডা', 'জীবনড', 'া']"
      ]
     },
     "execution_count": 23,
     "metadata": {},
     "output_type": "execute_result"
    }
   ],
   "source": [
    "cut('জীবনডা')"
   ]
  },
  {
   "cell_type": "code",
   "execution_count": 24,
   "id": "7be78f36-2247-4401-ad64-6609c1c29280",
   "metadata": {},
   "outputs": [],
   "source": [
    "def lookup_wrds(wrd):\n",
    "    return set(useful_substrings(wrd)+cut(wrd))"
   ]
  },
  {
   "cell_type": "code",
   "execution_count": 25,
   "id": "2e1ffb44-5151-45f4-a686-2b3b2c78d97d",
   "metadata": {},
   "outputs": [
    {
     "data": {
      "text/plain": [
       "{'জ',\n",
       " 'জী',\n",
       " 'জীব',\n",
       " 'জীবন',\n",
       " 'জীবনড',\n",
       " 'জীবনডা',\n",
       " 'ডা',\n",
       " 'নডা',\n",
       " 'বনডা',\n",
       " 'া',\n",
       " 'ীবনডা'}"
      ]
     },
     "execution_count": 25,
     "metadata": {},
     "output_type": "execute_result"
    }
   ],
   "source": [
    "lookup_wrds('জীবনডা')"
   ]
  },
  {
   "cell_type": "code",
   "execution_count": 26,
   "id": "1283774d-d6e0-47b8-b336-38f3325d1dfb",
   "metadata": {},
   "outputs": [],
   "source": [
    "def prepare_dictionary_s(sentence):\n",
    "    words_from_sentence = sentence.split()\n",
    "    probabilty = dict()\n",
    "    for word in words_from_sentence:\n",
    "        for w in lookup_wrds(word):\n",
    "            probabilty[w] = [.0000001 for k in range(7)]\n",
    "    for word in words_from_sentence:\n",
    "        for w in lookup_wrds(word):\n",
    "            k = 0\n",
    "            for emotion in word_pool:\n",
    "                total = all_words.count(w)\n",
    "                tw = word_pool[emotion].count(w)\n",
    "                if not tw == 0 :\n",
    "                    probabilty[w][k] = tw/total\n",
    "                k += 1\n",
    "            probabilty[w][k] = total/total_sentences\n",
    "    return probabilty"
   ]
  },
  {
   "cell_type": "code",
   "execution_count": 27,
   "id": "d509c37a-b1ae-468a-8136-fad2c185013c",
   "metadata": {},
   "outputs": [],
   "source": [
    "def count_probabilityNB_s(sentence):\n",
    "    probability = prepare_dictionary_s(sentence)\n",
    "    prob = [1 for _ in range(6)]\n",
    "    for k in range(6):\n",
    "        for word in sentence.split():\n",
    "            for w in lookup_wrds(word):\n",
    "                if not w in all_words:\n",
    "                    prob[k] *= 1\n",
    "                else:\n",
    "                    prob[k] *= probability[w][k]*probability[w][-1]\n",
    "    return prob"
   ]
  },
  {
   "cell_type": "code",
   "execution_count": 29,
   "id": "46d3eb78-47de-497f-883c-ef2c651b9903",
   "metadata": {},
   "outputs": [
    {
     "data": {
      "text/plain": [
       "<BarContainer object of 6 artists>"
      ]
     },
     "execution_count": 29,
     "metadata": {},
     "output_type": "execute_result"
    },
    {
     "data": {
      "image/png": "[encoded data removed]",
      "text/plain": [
       "<Figure size 640x480 with 1 Axes>"
      ]
     },
     "metadata": {},
     "output_type": "display_data"
    }
   ],
   "source": [
    "plt.bar(['sad','happy','angry','surprise','disgust','fear'],count_probabilityNB_s('ওটা আপনার লোকেরাই করছে।'))"
   ]
  },
  {
   "cell_type": "code",
   "execution_count": 30,
   "id": "703e211a-f288-458c-943f-cdeca220c253",
   "metadata": {},
   "outputs": [
    {
     "data": {
      "text/plain": [
       "<BarContainer object of 6 artists>"
      ]
     },
     "execution_count": 30,
     "metadata": {},
     "output_type": "execute_result"
    },
    {
     "data": {
      "image/png": "[encoded data removed]",
      "text/plain": [
       "<Figure size 640x480 with 1 Axes>"
      ]
     },
     "metadata": {},
     "output_type": "display_data"
    }
   ],
   "source": [
    "plt.bar(['sad','happy','angry','surprise','disgust','fear'],count_probabilityNB_s('জীবনডা বেদনা'))"
   ]
  },
  {
   "cell_type": "code",
   "execution_count": 31,
   "id": "b865af45-54d6-44c9-a5a5-958ff6f9856f",
   "metadata": {},
   "outputs": [
    {
     "data": {
      "text/plain": [
       "7600    Disgust        ধন্যবাদ পুলিশকে, কিন্তু এই ধরনে...\n",
       "7601               Angry        হের মায়ে কোই জানি মোনে হয়\n",
       "7602    Disgust        তুই (ইমরান) কেন ৪ বছর বয়ষেই হার...\n",
       "7603    Disgust        বাচ্চার মা ও বাবাকে ২ দিন থানায়...\n",
       "7604    Disgust        সেই প্রকৃত পুরুষ যে ঘর জামাই থে...\n",
       "                              ...                        \n",
       "7919    Surprise        ভারতে প্রতিদিন ১৮ টা রেপ কেইস ...\n",
       "7920                    Surprise        এই কি স্বাধীন দেশ\n",
       "7921    Sad        স্বাধীন দেশের নাগরিক হয়ে ও আজ আমরা ...\n",
       "7922    Sad        আমরা মানুষের মত হয়ে বাচতে চায়,পরাধী...\n",
       "7923    Sad        বরাবর, মাননীয় প্রধানমন্ত্রী গণপ্রজ...\n",
       "Name: sentences, Length: 324, dtype: object"
      ]
     },
     "execution_count": 31,
     "metadata": {},
     "output_type": "execute_result"
    }
   ],
   "source": [
    "data = pd.read_csv('ThesisDataSet.txt',delimiter = '\\t')\n",
    "tdata = data[7600:]\n",
    "tdata = tdata['sentences']\n",
    "tdata"
   ]
  },
  {
   "cell_type": "code",
   "execution_count": 32,
   "id": "a46e133c-4cca-4a91-85d8-2f463e13b2cb",
   "metadata": {},
   "outputs": [],
   "source": [
    "total = len(tdata)"
   ]
  },
  {
   "cell_type": "code",
   "execution_count": 33,
   "id": "fdda553b-84fe-48e7-9247-15d158eac763",
   "metadata": {},
   "outputs": [],
   "source": [
    "def make_sentence(tdata):\n",
    "    sentences = []\n",
    "    for line in tdata:\n",
    "        sentence = ''\n",
    "        for wrd in line.split()[1:]:\n",
    "            sentence += wrd+' '\n",
    "        sentences.append(tuple([sentence,line.split()[0]]))\n",
    "    return sentences"
   ]
  },
  {
   "cell_type": "code",
   "execution_count": 34,
   "id": "8a39b9b6-1c24-404c-8236-79597075bbec",
   "metadata": {},
   "outputs": [],
   "source": [
    "sentences = make_sentence(tdata)"
   ]
  },
  {
   "cell_type": "code",
   "execution_count": 35,
   "id": "5c931314-1598-4661-8167-2c00184a2b8f",
   "metadata": {},
   "outputs": [],
   "source": [
    "def test(sentences):\n",
    "    correct = 0\n",
    "    total = len(sentences)\n",
    "    reactions = ['Sad','Happy','Angry','Surprise','Disgust','Fear']\n",
    "    for sentence in sentences:\n",
    "        probs = count_probabilityNB(sentence[0])\n",
    "        if(reactions[probs.index(max(probs))] == sentence[1]):\n",
    "            correct += 1\n",
    "    return 100*correct/total"
   ]
  },
  {
   "cell_type": "code",
   "execution_count": 36,
   "id": "cc998e89-78ca-4160-940d-8f1f72130ecf",
   "metadata": {},
   "outputs": [
    {
     "data": {
      "text/plain": [
       "93.82716049382717"
      ]
     },
     "execution_count": 36,
     "metadata": {},
     "output_type": "execute_result"
    }
   ],
   "source": [
    "test(sentences)"
   ]
  },
  {
   "cell_type": "code",
   "execution_count": null,
   "id": "7907ee66-9286-4b2f-b903-045a53ccc07e",
   "metadata": {},
   "outputs": [],
   "source": []
  },
  {
   "cell_type": "code",
   "execution_count": null,
   "id": "9a8f9912-43e3-424f-afa0-aa242f5c170c",
   "metadata": {},
   "outputs": [],
   "source": []
  }
 ],
 "metadata": {
  "kernelspec": {
   "display_name": "Python 3",
   "language": "python",
   "name": "python3"
  },
  "language_info": {
   "codemirror_mode": {
    "name": "ipython",
    "version": 3
   },
   "file_extension": ".py",
   "mimetype": "text/x-python",
   "name": "python",
   "nbconvert_exporter": "python",
   "pygments_lexer": "ipython3",
   "version": "3.10.6"
  }
 },
 "nbformat": 4,
 "nbformat_minor": 5
}
